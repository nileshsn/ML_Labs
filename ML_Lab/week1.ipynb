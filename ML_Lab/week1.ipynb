{
 "cells": [
  {
   "cell_type": "code",
   "execution_count": 27,
   "metadata": {},
   "outputs": [
    {
     "name": "stdout",
     "output_type": "stream",
     "text": [
      "Hello World!\n"
     ]
    }
   ],
   "source": [
    "print(\"Hello World!\")"
   ]
  },
  {
   "cell_type": "code",
   "execution_count": 28,
   "metadata": {},
   "outputs": [
    {
     "name": "stdout",
     "output_type": "stream",
     "text": [
      "0    20\n",
      "1    30\n",
      "2    40\n",
      "3    50\n",
      "dtype: int64\n"
     ]
    }
   ],
   "source": [
    "# Create a list of numbers from 20 to 50\n",
    "import pandas as pd\n",
    "data = [20, 30, 40, 50]\n",
    "v = pd.Series(data)\n",
    "print(v)"
   ]
  },
  {
   "cell_type": "code",
   "execution_count": 29,
   "metadata": {},
   "outputs": [
    {
     "name": "stdout",
     "output_type": "stream",
     "text": [
      "     Name  Age    City\n",
      "0  Nilesh   20    Pune\n",
      "1   Azhar   21  Mumbai\n",
      "2   Shiva   30   Delhi\n"
     ]
    }
   ],
   "source": [
    "# Creating a DataFrame\n",
    "data = {\n",
    "    'Name': ['Nilesh','Azhar','Shiva'], \n",
    "    'Age': [20,21,30], \n",
    "    'City': ['Pune','Mumbai','Delhi']\n",
    "}\n",
    "df = pd.DataFrame(data)\n",
    "print(df)"
   ]
  },
  {
   "cell_type": "code",
   "execution_count": 30,
   "metadata": {},
   "outputs": [],
   "source": [
    "df = pd.read_csv('transactions.csv') # Read CSV file"
   ]
  },
  {
   "cell_type": "code",
   "execution_count": 31,
   "metadata": {},
   "outputs": [
    {
     "name": "stdout",
     "output_type": "stream",
     "text": [
      "   TransactionID TransactionDate  UserID  ProductID  Quantity\n",
      "0              1      2010-08-21     7.0          2         1\n",
      "1              2      2011-05-26     3.0          4         1\n",
      "2              3      2011-06-16     3.0          3         1\n",
      "3              4      2012-08-26     1.0          2         3\n",
      "4              5      2013-06-06     2.0          4         1\n"
     ]
    }
   ],
   "source": [
    "print(df.head(5)) # first 5 rows"
   ]
  },
  {
   "cell_type": "code",
   "execution_count": 32,
   "metadata": {},
   "outputs": [
    {
     "name": "stdout",
     "output_type": "stream",
     "text": [
      "   TransactionID TransactionDate  UserID  ProductID  Quantity\n",
      "5              6      2013-12-23     2.0          5         6\n",
      "6              7      2013-12-30     3.0          4         1\n",
      "7              8      2014-04-24     NaN          2         3\n",
      "8              9      2015-04-24     7.0          4         3\n",
      "9             10      2016-05-08     3.0          4         4\n"
     ]
    }
   ],
   "source": [
    "print(df.tail(5)) # last 5 rows"
   ]
  },
  {
   "cell_type": "code",
   "execution_count": 33,
   "metadata": {},
   "outputs": [
    {
     "name": "stdout",
     "output_type": "stream",
     "text": [
      "<class 'pandas.core.frame.DataFrame'>\n",
      "RangeIndex: 10 entries, 0 to 9\n",
      "Data columns (total 5 columns):\n",
      " #   Column           Non-Null Count  Dtype  \n",
      "---  ------           --------------  -----  \n",
      " 0   TransactionID    10 non-null     int64  \n",
      " 1   TransactionDate  10 non-null     object \n",
      " 2   UserID           9 non-null      float64\n",
      " 3   ProductID        10 non-null     int64  \n",
      " 4   Quantity         10 non-null     int64  \n",
      "dtypes: float64(1), int64(3), object(1)\n",
      "memory usage: 532.0+ bytes\n",
      "None\n"
     ]
    }
   ],
   "source": [
    "print(df.info()) # Information about the data"
   ]
  },
  {
   "cell_type": "code",
   "execution_count": 34,
   "metadata": {},
   "outputs": [
    {
     "name": "stdout",
     "output_type": "stream",
     "text": [
      "       TransactionID    UserID  ProductID   Quantity\n",
      "count       10.00000  9.000000  10.000000  10.000000\n",
      "mean         5.50000  3.444444   3.400000   2.400000\n",
      "std          3.02765  2.127858   1.074968   1.712698\n",
      "min          1.00000  1.000000   2.000000   1.000000\n",
      "25%          3.25000  2.000000   2.250000   1.000000\n",
      "50%          5.50000  3.000000   4.000000   2.000000\n",
      "75%          7.75000  3.000000   4.000000   3.000000\n",
      "max         10.00000  7.000000   5.000000   6.000000\n"
     ]
    }
   ],
   "source": [
    "print(df.describe()) # summary statistics"
   ]
  },
  {
   "cell_type": "code",
   "execution_count": 35,
   "metadata": {},
   "outputs": [
    {
     "name": "stdout",
     "output_type": "stream",
     "text": [
      "0     1\n",
      "1     2\n",
      "2     3\n",
      "3     4\n",
      "4     5\n",
      "5     6\n",
      "6     7\n",
      "7     8\n",
      "8     9\n",
      "9    10\n",
      "Name: TransactionID, dtype: int64\n"
     ]
    }
   ],
   "source": [
    "print(df['TransactionID']) # Accessing a column"
   ]
  },
  {
   "cell_type": "code",
   "execution_count": 36,
   "metadata": {},
   "outputs": [
    {
     "name": "stdout",
     "output_type": "stream",
     "text": [
      "24\n"
     ]
    }
   ],
   "source": [
    "print(df['Quantity'].sum()) # sum of Quantity column"
   ]
  },
  {
   "cell_type": "code",
   "execution_count": 37,
   "metadata": {},
   "outputs": [
    {
     "name": "stdout",
     "output_type": "stream",
     "text": [
      "   Quantity  UserID\n",
      "0         1     7.0\n",
      "1         1     3.0\n",
      "2         1     3.0\n",
      "3         3     1.0\n",
      "4         1     2.0\n",
      "5         6     2.0\n",
      "6         1     3.0\n",
      "7         3     NaN\n",
      "8         3     7.0\n",
      "9         4     3.0\n"
     ]
    }
   ],
   "source": [
    "print(df[['Quantity', 'UserID']]) # Selecting multiple columns"
   ]
  },
  {
   "cell_type": "code",
   "execution_count": 38,
   "metadata": {},
   "outputs": [
    {
     "name": "stdout",
     "output_type": "stream",
     "text": [
      "TransactionID               5\n",
      "TransactionDate    2013-06-06\n",
      "UserID                    2.0\n",
      "ProductID                   4\n",
      "Quantity                    1\n",
      "Name: 4, dtype: object\n"
     ]
    }
   ],
   "source": [
    "print(df.iloc[4]) # 5th row"
   ]
  },
  {
   "cell_type": "code",
   "execution_count": 25,
   "metadata": {},
   "outputs": [
    {
     "name": "stdout",
     "output_type": "stream",
     "text": [
      "   TransactionID TransactionDate  UserID  ProductID  Quantity\n",
      "3              4      2012-08-26     1.0          2         3\n",
      "5              6      2013-12-23     2.0          5         6\n",
      "7              8      2014-04-24     NaN          2         3\n",
      "8              9      2015-04-24     7.0          4         3\n",
      "9             10      2016-05-08     3.0          4         4\n"
     ]
    }
   ],
   "source": [
    "filtered_df = df[df['Quantity'] > 1] # Filter rows based on condition\n",
    "print(filtered_df)  "
   ]
  },
  {
   "cell_type": "code",
   "execution_count": 40,
   "metadata": {},
   "outputs": [
    {
     "name": "stdout",
     "output_type": "stream",
     "text": [
      "   TransactionID TransactionDate  CustomerID  ProductID  Quantity\n",
      "0              1      2010-08-21         7.0          2         1\n",
      "1              2      2011-05-26         3.0          4         1\n",
      "2              3      2011-06-16         3.0          3         1\n",
      "3              4      2012-08-26         1.0          2         3\n",
      "4              5      2013-06-06         2.0          4         1\n",
      "5              6      2013-12-23         2.0          5         6\n",
      "6              7      2013-12-30         3.0          4         1\n",
      "7              8      2014-04-24         NaN          2         3\n",
      "8              9      2015-04-24         7.0          4         3\n",
      "9             10      2016-05-08         3.0          4         4\n"
     ]
    }
   ],
   "source": [
    "df.rename(columns = {'UserID':'CustomerID'}, inplace = True) # Rename column\n",
    "print(df)"
   ]
  },
  {
   "cell_type": "code",
   "execution_count": 41,
   "metadata": {},
   "outputs": [
    {
     "name": "stdout",
     "output_type": "stream",
     "text": [
      "TransactionID      0\n",
      "TransactionDate    0\n",
      "CustomerID         1\n",
      "ProductID          0\n",
      "Quantity           0\n",
      "dtype: int64\n"
     ]
    }
   ],
   "source": [
    "print(df.isnull().sum()) # Check for missing values"
   ]
  },
  {
   "cell_type": "code",
   "execution_count": 54,
   "metadata": {},
   "outputs": [
    {
     "name": "stdout",
     "output_type": "stream",
     "text": [
      "   TransactionID TransactionDate  CustomerID  ProductID  Quantity\n",
      "0              1      2010-08-21         7.0          2         1\n",
      "1              2      2011-05-26         3.0          4         1\n",
      "2              3      2011-06-16         3.0          3         1\n",
      "3              4      2012-08-26         1.0          2         3\n",
      "4              5      2013-06-06         2.0          4         1\n",
      "5              6      2013-12-23         2.0          5         6\n",
      "6              7      2013-12-30         3.0          4         1\n",
      "8              9      2015-04-24         7.0          4         3\n",
      "9             10      2016-05-08         3.0          4         4\n"
     ]
    }
   ],
   "source": [
    "df['Quantity'] = df['Quantity'].fillna(df['Quantity'].mean()) # Fill missing values\n",
    "print(df)   "
   ]
  },
  {
   "cell_type": "code",
   "execution_count": 53,
   "metadata": {},
   "outputs": [
    {
     "name": "stdout",
     "output_type": "stream",
     "text": [
      "   TransactionID TransactionDate  CustomerID  ProductID  Quantity\n",
      "0              1      2010-08-21         7.0          2         1\n",
      "1              2      2011-05-26         3.0          4         1\n",
      "2              3      2011-06-16         3.0          3         1\n",
      "3              4      2012-08-26         1.0          2         3\n",
      "4              5      2013-06-06         2.0          4         1\n",
      "5              6      2013-12-23         2.0          5         6\n",
      "6              7      2013-12-30         3.0          4         1\n",
      "8              9      2015-04-24         7.0          4         3\n",
      "9             10      2016-05-08         3.0          4         4\n"
     ]
    }
   ],
   "source": [
    "df.dropna(inplace=True) # Drop missing values\n",
    "print(df)"
   ]
  },
  {
   "cell_type": "code",
   "execution_count": 55,
   "metadata": {},
   "outputs": [
    {
     "name": "stdout",
     "output_type": "stream",
     "text": [
      "   TransactionID TransactionDate  CustomerID  ProductID  Quantity\n",
      "5              6      2013-12-23         2.0          5         6\n",
      "9             10      2016-05-08         3.0          4         4\n",
      "8              9      2015-04-24         7.0          4         3\n",
      "3              4      2012-08-26         1.0          2         3\n",
      "6              7      2013-12-30         3.0          4         1\n",
      "4              5      2013-06-06         2.0          4         1\n",
      "2              3      2011-06-16         3.0          3         1\n",
      "1              2      2011-05-26         3.0          4         1\n",
      "0              1      2010-08-21         7.0          2         1\n"
     ]
    }
   ],
   "source": [
    "df_sorted = df.sort_values(by=['Quantity', 'TransactionDate'], ascending=False) # Sort by Quantity\n",
    "print(df_sorted)"
   ]
  },
  {
   "cell_type": "code",
   "execution_count": 56,
   "metadata": {},
   "outputs": [
    {
     "name": "stdout",
     "output_type": "stream",
     "text": [
      "   TransactionID TransactionDate  CustomerID  ProductID  Quantity\n",
      "0              1      2010-08-21         7.0          2         1\n",
      "2              3      2011-06-16         3.0          3         1\n",
      "5              6      2013-12-23         2.0          5         6\n"
     ]
    }
   ],
   "source": [
    "subset_rows = df.iloc[[0,2,5]] # Select rows 1,3 and 6\n",
    "print(subset_rows)  "
   ]
  },
  {
   "cell_type": "code",
   "execution_count": 60,
   "metadata": {},
   "outputs": [
    {
     "name": "stdout",
     "output_type": "stream",
     "text": [
      "   TransactionID TransactionDate  CustomerID  ProductID  Quantity\n",
      "0              1      2010-08-21         7.0          2         1\n",
      "2              3      2011-06-16         3.0          3         1\n",
      "4              5      2013-06-06         2.0          4         1\n",
      "6              7      2013-12-30         3.0          4         1\n",
      "9             10      2016-05-08         3.0          4         4\n"
     ]
    }
   ],
   "source": [
    "foo = [True, False, True, False, True, False, True, False, True] # Select rows based on a list\n",
    "subset_rows = df[foo]\n",
    "print(subset_rows)"
   ]
  },
  {
   "cell_type": "code",
   "execution_count": 61,
   "metadata": {},
   "outputs": [
    {
     "name": "stdout",
     "output_type": "stream",
     "text": [
      "   TransactionID  Quantity\n",
      "3              4         3\n",
      "5              6         6\n",
      "8              9         3\n",
      "9             10         4\n"
     ]
    }
   ],
   "source": [
    "subset = df[df['Quantity']>1][['TransactionID', 'Quantity']] # Select rows based on condition and columns\n",
    "print(subset)"
   ]
  },
  {
   "cell_type": "code",
   "execution_count": 62,
   "metadata": {},
   "outputs": [
    {
     "name": "stdout",
     "output_type": "stream",
     "text": [
      "   TransactionID TransactionDate\n",
      "0              1      2010-08-21\n",
      "1              2      2011-05-26\n",
      "2              3      2011-06-16\n",
      "3              4      2012-08-26\n",
      "4              5      2013-06-06\n",
      "5              6      2013-12-23\n",
      "6              7      2013-12-30\n",
      "8              9      2015-04-24\n",
      "9             10      2016-05-08\n"
     ]
    }
   ],
   "source": [
    "col_to_select = ['TransactionID', 'TransactionDate'] # Select columns based on a list\n",
    "subset_cols = df[col_to_select] \n",
    "print(subset_cols)"
   ]
  },
  {
   "cell_type": "code",
   "execution_count": 63,
   "metadata": {},
   "outputs": [
    {
     "name": "stdout",
     "output_type": "stream",
     "text": [
      "   CustomerID  ProductID  Quantity\n",
      "0         7.0          2         1\n",
      "1         3.0          4         1\n",
      "2         3.0          3         1\n",
      "3         1.0          2         3\n",
      "4         2.0          4         1\n",
      "5         2.0          5         6\n",
      "6         3.0          4         1\n",
      "8         7.0          4         3\n",
      "9         3.0          4         4\n"
     ]
    }
   ],
   "source": [
    "col_to_exclude = ['TransactionID', 'TransactionDate'] # Exclude columns based on a list\n",
    "subset_cols = df[[col for col in df.columns if col not in col_to_exclude]]\n",
    "print(subset_cols)"
   ]
  },
  {
   "cell_type": "code",
   "execution_count": 64,
   "metadata": {},
   "outputs": [
    {
     "name": "stdout",
     "output_type": "stream",
     "text": [
      "TransactionID               int64\n",
      "TransactionDate    datetime64[ns]\n",
      "CustomerID                float64\n",
      "ProductID                   int64\n",
      "Quantity                    int64\n",
      "dtype: object\n"
     ]
    }
   ],
   "source": [
    "df['TransactionDate'] = pd.to_datetime(df['TransactionDate']) # Convert to datetime\n",
    "print(df.dtypes)"
   ]
  },
  {
   "cell_type": "code",
   "execution_count": 66,
   "metadata": {},
   "outputs": [
    {
     "name": "stdout",
     "output_type": "stream",
     "text": [
      "   TransactionID TransactionDate  CustomerID  ProductID  Quantity  New\n",
      "0              1      2010-08-21         7.0          2         1  8.0\n",
      "1              2      2011-05-26         3.0          4         1  5.0\n",
      "2              3      2011-06-16         3.0          3         1  6.0\n",
      "3              4      2012-08-26         1.0          2         3  5.0\n",
      "4              5      2013-06-06         2.0          4         1  7.0\n"
     ]
    }
   ],
   "source": [
    "#insert a new column New = CustomerID + TransactionID\n",
    "df['New'] = df['CustomerID'] + df['TransactionID']\n",
    "print(df.head())"
   ]
  },
  {
   "cell_type": "code",
   "execution_count": 89,
   "metadata": {},
   "outputs": [],
   "source": [
    "#inserting a new row\n",
    "new_row = {'TransactionID': 11, 'TransactionDate': '2020-01-01 00:00:00', 'CustomerID': 1, 'ProductID': 1, 'Quantity': 1, 'New': 1.0}\n",
    "new_row_df = pd.DataFrame([new_row])\n",
    "df = pd.concat([df, new_row_df], ignore_index=True)"
   ]
  },
  {
   "cell_type": "code",
   "execution_count": 93,
   "metadata": {},
   "outputs": [
    {
     "name": "stdout",
     "output_type": "stream",
     "text": [
      "    TransactionID      TransactionDate  CustomerID  ProductID  Quantity   New\n",
      "0               1  2010-08-21 00:00:00         7.0          2         1   8.0\n",
      "1               2  2011-05-26 00:00:00         3.0          4         1   5.0\n",
      "2               3  2011-06-16 00:00:00         3.0          3         1   6.0\n",
      "3               4  2012-08-26 00:00:00         1.0          2         3   5.0\n",
      "4               5  2013-06-06 00:00:00         2.0          4         1   7.0\n",
      "5               6  2013-12-23 00:00:00         2.0          5         6   8.0\n",
      "6               7  2013-12-30 00:00:00         3.0          4         1  10.0\n",
      "7               9  2015-04-24 00:00:00         7.0          4         3  16.0\n",
      "8              10  2016-05-08 00:00:00         3.0          4         4  13.0\n",
      "10             11  2020-01-01 00:00:00         1.0          1         1   1.0\n"
     ]
    }
   ],
   "source": [
    "print(df)"
   ]
  },
  {
   "cell_type": "code",
   "execution_count": 94,
   "metadata": {},
   "outputs": [],
   "source": [
    "df.loc[df['TransactionID'] == 11, 'Quantity'] = 2 # Update Quantity where TransactionID is 11"
   ]
  },
  {
   "cell_type": "code",
   "execution_count": 95,
   "metadata": {},
   "outputs": [
    {
     "name": "stdout",
     "output_type": "stream",
     "text": [
      "    TransactionID      TransactionDate  CustomerID  ProductID  Quantity   New\n",
      "0               1  2010-08-21 00:00:00         7.0          2         1   8.0\n",
      "1               2  2011-05-26 00:00:00         3.0          4         1   5.0\n",
      "2               3  2011-06-16 00:00:00         3.0          3         1   6.0\n",
      "3               4  2012-08-26 00:00:00         1.0          2         3   5.0\n",
      "4               5  2013-06-06 00:00:00         2.0          4         1   7.0\n",
      "5               6  2013-12-23 00:00:00         2.0          5         6   8.0\n",
      "6               7  2013-12-30 00:00:00         3.0          4         1  10.0\n",
      "7               9  2015-04-24 00:00:00         7.0          4         3  16.0\n",
      "8              10  2016-05-08 00:00:00         3.0          4         4  13.0\n",
      "10             11  2020-01-01 00:00:00         1.0          1         2   1.0\n"
     ]
    }
   ],
   "source": [
    "print(df)"
   ]
  },
  {
   "cell_type": "code",
   "execution_count": 99,
   "metadata": {},
   "outputs": [
    {
     "name": "stdout",
     "output_type": "stream",
     "text": [
      "       TransactionID  CustomerID  ProductID   Quantity        New\n",
      "count      10.000000   10.000000  10.000000  10.000000  10.000000\n",
      "mean        5.800000    3.200000   3.300000   2.300000   7.900000\n",
      "std         3.425395    2.149935   1.251666   1.702939   4.280446\n",
      "min         1.000000    1.000000   1.000000   1.000000   1.000000\n",
      "25%         3.250000    2.000000   2.250000   1.000000   5.250000\n",
      "50%         5.500000    3.000000   4.000000   1.500000   7.500000\n",
      "75%         8.500000    3.000000   4.000000   3.000000   9.500000\n",
      "max        11.000000    7.000000   5.000000   6.000000  16.000000\n"
     ]
    }
   ],
   "source": [
    "#Print Summary of Transaction data set\n",
    "print(df.describe())"
   ]
  },
  {
   "cell_type": "code",
   "execution_count": 101,
   "metadata": {},
   "outputs": [
    {
     "name": "stdout",
     "output_type": "stream",
     "text": [
      "10\n",
      "6\n",
      "(10, 6)\n"
     ]
    }
   ],
   "source": [
    "print(len(df)) # Number of rows\n",
    "print(len(df.columns)) # Number of columns\n",
    "print(df.shape) # Number of rows and columns"
   ]
  },
  {
   "cell_type": "code",
   "execution_count": 105,
   "metadata": {},
   "outputs": [
    {
     "name": "stdout",
     "output_type": "stream",
     "text": [
      "[ 0  1  2  3  4  5  6  7  8 10]\n"
     ]
    }
   ],
   "source": [
    "print(df.index.values) # Index values"
   ]
  },
  {
   "cell_type": "code",
   "execution_count": 103,
   "metadata": {},
   "outputs": [
    {
     "name": "stdout",
     "output_type": "stream",
     "text": [
      "['TransactionID' 'TransactionDate' 'CustomerID' 'ProductID' 'Quantity'\n",
      " 'New']\n"
     ]
    }
   ],
   "source": [
    "print(df.columns.values) # Column names"
   ]
  },
  {
   "cell_type": "code",
   "execution_count": 106,
   "metadata": {},
   "outputs": [
    {
     "name": "stdout",
     "output_type": "stream",
     "text": [
      "    TransactionID      TransactionDate  CustomerID  ProductID  Quantity   New\n",
      "0               1  2010-08-21 00:00:00         7.0          2         1   8.0\n",
      "1               2  2011-05-26 00:00:00         3.0          4         1   5.0\n",
      "2               3  2011-06-16 00:00:00         3.0          3         1   6.0\n",
      "3               4  2012-08-26 00:00:00         1.0          2         3   5.0\n",
      "4               5  2013-06-06 00:00:00         2.0          4         1   7.0\n",
      "5               6  2013-12-23 00:00:00         2.0          5         6   8.0\n",
      "6               7  2013-12-30 00:00:00         3.0          4         1  10.0\n",
      "7               9  2015-04-24 00:00:00         7.0          4         3  16.0\n",
      "8              10  2016-05-08 00:00:00         3.0          4         4  13.0\n",
      "10             11  2020-01-01 00:00:00         1.0          1         2   1.0\n"
     ]
    }
   ],
   "source": [
    "print(df.head(10)) #Top 10 rows"
   ]
  },
  {
   "cell_type": "code",
   "execution_count": 108,
   "metadata": {},
   "outputs": [
    {
     "name": "stdout",
     "output_type": "stream",
     "text": [
      "    TransactionID      TransactionDate  CustomerID  ProductID  Quant   New\n",
      "0               1  2010-08-21 00:00:00         7.0          2      1   8.0\n",
      "1               2  2011-05-26 00:00:00         3.0          4      1   5.0\n",
      "2               3  2011-06-16 00:00:00         3.0          3      1   6.0\n",
      "3               4  2012-08-26 00:00:00         1.0          2      3   5.0\n",
      "4               5  2013-06-06 00:00:00         2.0          4      1   7.0\n",
      "5               6  2013-12-23 00:00:00         2.0          5      6   8.0\n",
      "6               7  2013-12-30 00:00:00         3.0          4      1  10.0\n",
      "7               9  2015-04-24 00:00:00         7.0          4      3  16.0\n",
      "8              10  2016-05-08 00:00:00         3.0          4      4  13.0\n",
      "10             11  2020-01-01 00:00:00         1.0          1      2   1.0\n"
     ]
    }
   ],
   "source": [
    "df.rename(columns = {'Quantity': 'Quant'}, inplace=True) # Rename column\n",
    "print(df)"
   ]
  },
  {
   "cell_type": "code",
   "execution_count": 111,
   "metadata": {},
   "outputs": [
    {
     "name": "stdout",
     "output_type": "stream",
     "text": [
      "    TransactionID      TransactionDate  UserID  ItemID  Quant   New\n",
      "0               1  2010-08-21 00:00:00     7.0       2      1   8.0\n",
      "1               2  2011-05-26 00:00:00     3.0       4      1   5.0\n",
      "2               3  2011-06-16 00:00:00     3.0       3      1   6.0\n",
      "3               4  2012-08-26 00:00:00     1.0       2      3   5.0\n",
      "4               5  2013-06-06 00:00:00     2.0       4      1   7.0\n",
      "5               6  2013-12-23 00:00:00     2.0       5      6   8.0\n",
      "6               7  2013-12-30 00:00:00     3.0       4      1  10.0\n",
      "7               9  2015-04-24 00:00:00     7.0       4      3  16.0\n",
      "8              10  2016-05-08 00:00:00     3.0       4      4  13.0\n",
      "10             11  2020-01-01 00:00:00     1.0       1      2   1.0\n"
     ]
    }
   ],
   "source": [
    "df.rename(columns={'CustomerID': 'UserID', 'ProductID': 'ItemID'}, inplace=True) # Rename multiple columns\n",
    "print(df)"
   ]
  },
  {
   "cell_type": "code",
   "execution_count": 112,
   "metadata": {},
   "outputs": [],
   "source": [
    "df.rename(columns = {'New': 'Price'}, inplace=True) # Rename New to Price"
   ]
  },
  {
   "cell_type": "code",
   "execution_count": 113,
   "metadata": {},
   "outputs": [
    {
     "name": "stdout",
     "output_type": "stream",
     "text": [
      "    TransactionID      TransactionDate  UserID  ItemID  Quant  Price\n",
      "0               1  2010-08-21 00:00:00     7.0       2      1    8.0\n",
      "1               2  2011-05-26 00:00:00     3.0       4      1    5.0\n",
      "2               3  2011-06-16 00:00:00     3.0       3      1    6.0\n",
      "3               4  2012-08-26 00:00:00     1.0       2      3    5.0\n",
      "4               5  2013-06-06 00:00:00     2.0       4      1    7.0\n",
      "5               6  2013-12-23 00:00:00     2.0       5      6    8.0\n",
      "6               7  2013-12-30 00:00:00     3.0       4      1   10.0\n",
      "7               9  2015-04-24 00:00:00     7.0       4      3   16.0\n",
      "8              10  2016-05-08 00:00:00     3.0       4      4   13.0\n",
      "10             11  2020-01-01 00:00:00     1.0       1      2    1.0\n"
     ]
    }
   ],
   "source": [
    "print(df)"
   ]
  },
  {
   "cell_type": "code",
   "execution_count": 117,
   "metadata": {},
   "outputs": [
    {
     "name": "stdout",
     "output_type": "stream",
     "text": [
      "    TransactionID      TransactionDate  UserID  ItemID  Quant  Price\n",
      "0               1  2010-08-21 00:00:00     7.0       2      1    8.0\n",
      "1               2  2011-05-26 00:00:00     3.0       4      1    5.0\n",
      "2               3  2011-06-16 00:00:00     3.0       3      1    6.0\n",
      "3               4  2012-08-26 00:00:00     1.0       2      3    5.0\n",
      "4               5  2013-06-06 00:00:00     2.0       4      1    7.0\n",
      "5               6  2013-12-23 00:00:00     2.0       5      6    8.0\n",
      "6               7  2013-12-30 00:00:00     3.0       4      1   10.0\n",
      "7               9  2015-04-24 00:00:00     7.0       4      3   16.0\n",
      "8              10  2016-05-08 00:00:00     3.0       4      4   13.0\n",
      "10             11  2020-01-01 00:00:00     1.0       1      2    1.0\n"
     ]
    }
   ],
   "source": [
    "sort = df.sort_values(by='TransactionID', ascending=True) # Sort by TransactionID\n",
    "print(sort)"
   ]
  },
  {
   "cell_type": "code",
   "execution_count": 119,
   "metadata": {},
   "outputs": [
    {
     "name": "stdout",
     "output_type": "stream",
     "text": [
      "    TransactionID      TransactionDate  UserID  ItemID  Quant  Price\n",
      "5               6  2013-12-23 00:00:00     2.0       5      6    8.0\n",
      "8              10  2016-05-08 00:00:00     3.0       4      4   13.0\n",
      "7               9  2015-04-24 00:00:00     7.0       4      3   16.0\n",
      "3               4  2012-08-26 00:00:00     1.0       2      3    5.0\n",
      "10             11  2020-01-01 00:00:00     1.0       1      2    1.0\n",
      "0               1  2010-08-21 00:00:00     7.0       2      1    8.0\n",
      "1               2  2011-05-26 00:00:00     3.0       4      1    5.0\n",
      "2               3  2011-06-16 00:00:00     3.0       3      1    6.0\n",
      "4               5  2013-06-06 00:00:00     2.0       4      1    7.0\n",
      "6               7  2013-12-30 00:00:00     3.0       4      1   10.0\n"
     ]
    }
   ],
   "source": [
    "sort = df.sort_values(by='Quant', ascending=False) # Sort by Quantity\n",
    "print(sort)"
   ]
  },
  {
   "cell_type": "code",
   "execution_count": 120,
   "metadata": {},
   "outputs": [
    {
     "name": "stdout",
     "output_type": "stream",
     "text": [
      "    ItemID  UserID  TransactionID      TransactionDate  Quant  Price\n",
      "0        2     7.0              1  2010-08-21 00:00:00      1    8.0\n",
      "1        4     3.0              2  2011-05-26 00:00:00      1    5.0\n",
      "2        3     3.0              3  2011-06-16 00:00:00      1    6.0\n",
      "3        2     1.0              4  2012-08-26 00:00:00      3    5.0\n",
      "4        4     2.0              5  2013-06-06 00:00:00      1    7.0\n",
      "5        5     2.0              6  2013-12-23 00:00:00      6    8.0\n",
      "6        4     3.0              7  2013-12-30 00:00:00      1   10.0\n",
      "7        4     7.0              9  2015-04-24 00:00:00      3   16.0\n",
      "8        4     3.0             10  2016-05-08 00:00:00      4   13.0\n",
      "10       1     1.0             11  2020-01-01 00:00:00      2    1.0\n"
     ]
    }
   ],
   "source": [
    "#set column order of Transactions as ItemID, UserID, TransactionID, TransactionDate, Quant, Price\n",
    "df = df[['ItemID', 'UserID', 'TransactionID', 'TransactionDate', 'Quant', 'Price']]\n",
    "print(df)"
   ]
  },
  {
   "cell_type": "code",
   "execution_count": 121,
   "metadata": {},
   "outputs": [
    {
     "name": "stdout",
     "output_type": "stream",
     "text": [
      "    UserID  ItemID  TransactionID      TransactionDate  Quant  Price\n",
      "0      7.0       2              1  2010-08-21 00:00:00      1    8.0\n",
      "1      3.0       4              2  2011-05-26 00:00:00      1    5.0\n",
      "2      3.0       3              3  2011-06-16 00:00:00      1    6.0\n",
      "3      1.0       2              4  2012-08-26 00:00:00      3    5.0\n",
      "4      2.0       4              5  2013-06-06 00:00:00      1    7.0\n",
      "5      2.0       5              6  2013-12-23 00:00:00      6    8.0\n",
      "6      3.0       4              7  2013-12-30 00:00:00      1   10.0\n",
      "7      7.0       4              9  2015-04-24 00:00:00      3   16.0\n",
      "8      3.0       4             10  2016-05-08 00:00:00      4   13.0\n",
      "10     1.0       1             11  2020-01-01 00:00:00      2    1.0\n"
     ]
    }
   ],
   "source": [
    "df = df[['UserID', 'ItemID', 'TransactionID', 'TransactionDate', 'Quant', 'Price']] # Change column order   \n",
    "print(df)"
   ]
  },
  {
   "cell_type": "code",
   "execution_count": 127,
   "metadata": {},
   "outputs": [
    {
     "name": "stdout",
     "output_type": "stream",
     "text": [
      "[2 4 3 2 4 5 4 4 4 1]\n"
     ]
    }
   ],
   "source": [
    "# Extracting arrays from a Data Frame. Get the 2nd column\n",
    "arr = df.iloc[:, 1].values\n",
    "print(arr)"
   ]
  },
  {
   "cell_type": "code",
   "execution_count": 129,
   "metadata": {},
   "outputs": [
    {
     "name": "stdout",
     "output_type": "stream",
     "text": [
      "[2 4 3 2 4 5 4 4 4 1]\n"
     ]
    }
   ],
   "source": [
    "arr = df['ItemID'].values # Get the ItemID column\n",
    "print(arr)"
   ]
  },
  {
   "cell_type": "code",
   "execution_count": 133,
   "metadata": {},
   "outputs": [
    {
     "name": "stdout",
     "output_type": "stream",
     "text": [
      "   UserID  ItemID  TransactionID      TransactionDate  Quant  Price\n",
      "0     7.0       2              1  2010-08-21 00:00:00      1    8.0\n",
      "2     3.0       3              3  2011-06-16 00:00:00      1    6.0\n",
      "5     2.0       5              6  2013-12-23 00:00:00      6    8.0\n"
     ]
    }
   ],
   "source": [
    "subset = df.iloc[[0, 2, 5]] # Select rows 1,3 and 6\n",
    "print(subset)"
   ]
  },
  {
   "cell_type": "code",
   "execution_count": 137,
   "metadata": {},
   "outputs": [
    {
     "name": "stdout",
     "output_type": "stream",
     "text": [
      "   UserID  ItemID  TransactionID      TransactionDate  Quant  Price\n",
      "0     7.0       2              1  2010-08-21 00:00:00      1    8.0\n",
      "1     3.0       4              2  2011-05-26 00:00:00      1    5.0\n",
      "2     3.0       3              3  2011-06-16 00:00:00      1    6.0\n"
     ]
    }
   ],
   "source": [
    "subset = df.iloc[0:3] # Select rows 1 to 3\n",
    "print(subset)"
   ]
  },
  {
   "cell_type": "code",
   "execution_count": 138,
   "metadata": {},
   "outputs": [
    {
     "name": "stdout",
     "output_type": "stream",
     "text": [
      "    UserID  ItemID  TransactionID      TransactionDate  Quant  Price\n",
      "8      3.0       4             10  2016-05-08 00:00:00      4   13.0\n",
      "10     1.0       1             11  2020-01-01 00:00:00      2    1.0\n"
     ]
    }
   ],
   "source": [
    "#last 2 rows\n",
    "subset = df.iloc[-2:]\n",
    "print(subset)"
   ]
  },
  {
   "cell_type": "code",
   "execution_count": 144,
   "metadata": {},
   "outputs": [
    {
     "name": "stdout",
     "output_type": "stream",
     "text": [
      "   UserID  ItemID  TransactionID      TransactionDate  Quant  Price\n",
      "0     7.0       2              1  2010-08-21 00:00:00      1    8.0\n",
      "1     3.0       4              2  2011-05-26 00:00:00      1    5.0\n",
      "2     3.0       3              3  2011-06-16 00:00:00      1    6.0\n",
      "3     1.0       2              4  2012-08-26 00:00:00      3    5.0\n",
      "4     2.0       4              5  2013-06-06 00:00:00      1    7.0\n",
      "5     2.0       5              6  2013-12-23 00:00:00      6    8.0\n",
      "6     3.0       4              7  2013-12-30 00:00:00      1   10.0\n",
      "7     7.0       4              9  2015-04-24 00:00:00      3   16.0\n"
     ]
    }
   ],
   "source": [
    "#Excluding the last 2 rows\n",
    "subset = df.iloc[:-2]\n",
    "print(subset)"
   ]
  },
  {
   "cell_type": "code",
   "execution_count": 145,
   "metadata": {},
   "outputs": [
    {
     "name": "stdout",
     "output_type": "stream",
     "text": [
      "    UserID  ItemID  TransactionID      TransactionDate  Quant  Price\n",
      "3      1.0       2              4  2012-08-26 00:00:00      3    5.0\n",
      "5      2.0       5              6  2013-12-23 00:00:00      6    8.0\n",
      "7      7.0       4              9  2015-04-24 00:00:00      3   16.0\n",
      "8      3.0       4             10  2016-05-08 00:00:00      4   13.0\n",
      "10     1.0       1             11  2020-01-01 00:00:00      2    1.0\n"
     ]
    }
   ],
   "source": [
    "#subset rows where Quant>1\n",
    "subset = df[df['Quant'] > 1]\n",
    "print(subset)"
   ]
  },
  {
   "cell_type": "code",
   "execution_count": 150,
   "metadata": {},
   "outputs": [
    {
     "name": "stdout",
     "output_type": "stream",
     "text": [
      "   UserID  ItemID  TransactionID      TransactionDate  Quant  Price\n",
      "4     2.0       4              5  2013-06-06 00:00:00      1    7.0\n",
      "5     2.0       5              6  2013-12-23 00:00:00      6    8.0\n"
     ]
    }
   ],
   "source": [
    "subset_2 = df[df['UserID'] == 2] # Select rows where UserID is 2\n",
    "print(subset_2)"
   ]
  },
  {
   "cell_type": "code",
   "execution_count": 151,
   "metadata": {},
   "outputs": [
    {
     "name": "stdout",
     "output_type": "stream",
     "text": [
      "   UserID  ItemID  TransactionID      TransactionDate  Quant  Price\n",
      "5     2.0       5              6  2013-12-23 00:00:00      6    8.0\n"
     ]
    }
   ],
   "source": [
    "subset_3 = df[(df['Quant'] > 1) & (df['UserID'] == 2)] # Select rows where Quant > 1 and UserID > 2\n",
    "print(subset_3)"
   ]
  },
  {
   "cell_type": "code",
   "execution_count": 152,
   "metadata": {},
   "outputs": [
    {
     "name": "stdout",
     "output_type": "stream",
     "text": [
      "    UserID  ItemID  TransactionID      TransactionDate  Quant  Price\n",
      "3      1.0       2              4  2012-08-26 00:00:00      3    5.0\n",
      "4      2.0       4              5  2013-06-06 00:00:00      1    7.0\n",
      "5      2.0       5              6  2013-12-23 00:00:00      6    8.0\n",
      "7      7.0       4              9  2015-04-24 00:00:00      3   16.0\n",
      "8      3.0       4             10  2016-05-08 00:00:00      4   13.0\n",
      "10     1.0       1             11  2020-01-01 00:00:00      2    1.0\n"
     ]
    }
   ],
   "source": [
    "subset_4 = df[(df['Quant'] > 1) | (df['UserID'] == 2)] # Select rows where Quant > 1 or UserID > 2\n",
    "print(subset_4)"
   ]
  },
  {
   "cell_type": "code",
   "execution_count": 154,
   "metadata": {},
   "outputs": [
    {
     "name": "stdout",
     "output_type": "stream",
     "text": [
      "   UserID  ItemID  TransactionID      TransactionDate  Quant  Price\n",
      "0     7.0       2              1  2010-08-21 00:00:00      1    8.0\n",
      "1     3.0       4              2  2011-05-26 00:00:00      1    5.0\n",
      "2     3.0       3              3  2011-06-16 00:00:00      1    6.0\n",
      "3     1.0       2              4  2012-08-26 00:00:00      3    5.0\n",
      "5     2.0       5              6  2013-12-23 00:00:00      6    8.0\n",
      "6     3.0       4              7  2013-12-30 00:00:00      1   10.0\n",
      "7     7.0       4              9  2015-04-24 00:00:00      3   16.0\n",
      "8     3.0       4             10  2016-05-08 00:00:00      4   13.0\n"
     ]
    }
   ],
   "source": [
    "subset_5 = df[(df['Quant']+df['UserID']) > 3] # Select rows where Quant + UserID > 3\n",
    "print(subset_5)  "
   ]
  },
  {
   "cell_type": "code",
   "execution_count": null,
   "metadata": {},
   "outputs": [],
   "source": []
  }
 ],
 "metadata": {
  "kernelspec": {
   "display_name": "Python 3",
   "language": "python",
   "name": "python3"
  },
  "language_info": {
   "codemirror_mode": {
    "name": "ipython",
    "version": 3
   },
   "file_extension": ".py",
   "mimetype": "text/x-python",
   "name": "python",
   "nbconvert_exporter": "python",
   "pygments_lexer": "ipython3",
   "version": "3.12.5"
  }
 },
 "nbformat": 4,
 "nbformat_minor": 2
}
